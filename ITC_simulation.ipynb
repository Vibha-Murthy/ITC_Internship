{
  "nbformat": 4,
  "nbformat_minor": 0,
  "metadata": {
    "colab": {
      "name": "ITC_simulation.ipynb",
      "provenance": [],
      "collapsed_sections": [],
      "authorship_tag": "ABX9TyO4BIyYeQTPJcLsCH9m+q1g",
      "include_colab_link": true
    },
    "kernelspec": {
      "name": "python3",
      "display_name": "Python 3"
    },
    "language_info": {
      "name": "python"
    }
  },
  "cells": [
    {
      "cell_type": "markdown",
      "metadata": {
        "id": "view-in-github",
        "colab_type": "text"
      },
      "source": [
        "<a href=\"https://colab.research.google.com/github/Vibha-Murthy/ITC_Internship/blob/main/ITC_simulation.ipynb\" target=\"_parent\"><img src=\"https://colab.research.google.com/assets/colab-badge.svg\" alt=\"Open In Colab\"/></a>"
      ]
    },
    {
      "cell_type": "code",
      "source": [
        "#to generate sensor data by studying ditribution and regenerating random data from that distribution"
      ],
      "metadata": {
        "id": "oU7sdTVBs1n1"
      },
      "execution_count": null,
      "outputs": []
    },
    {
      "cell_type": "code",
      "execution_count": null,
      "metadata": {
        "id": "bOrqNVtgIkeM"
      },
      "outputs": [],
      "source": [
        "!pip install gretel-synthetics"
      ]
    },
    {
      "cell_type": "code",
      "source": [
        "import pandas as pd\n",
        "import numpy as np"
      ],
      "metadata": {
        "id": "mabV7OcfJ2na"
      },
      "execution_count": null,
      "outputs": []
    },
    {
      "cell_type": "code",
      "source": [
        "df = pd.DataFrame(np.random.random(size=(1000,30)))\n",
        "df.columns = pd.date_range(\"2022/01/01\", periods=30)\n",
        "# Include an attribute column\n",
        "df[\"attribute\"] = np.random.randint(0, 3, size=1000)"
      ],
      "metadata": {
        "id": "6mJILmdZJsaL"
      },
      "execution_count": null,
      "outputs": []
    },
    {
      "cell_type": "code",
      "source": [
        "df"
      ],
      "metadata": {
        "id": "1E3oCTH5JZTC"
      },
      "execution_count": null,
      "outputs": []
    },
    {
      "cell_type": "code",
      "source": [
        "import numpy\n",
        "from scipy.optimize import curve_fit\n",
        "import matplotlib.pyplot as plt\n",
        "\n",
        "x = numpy.arange(1, 193, 1)\n",
        "arr = pd.read_csv('test.csv', header=None)\n",
        "y= arr[0].to_list()\n",
        "y=numpy.array(y)\n",
        "print(y)\n",
        "'''\n",
        "[a, b], res1 = curve_fit(lambda x1,a,b: a*numpy.exp(b*x1),  x,  y)\n",
        " \n",
        "y1 = a * numpy.exp(b * x)\n",
        " \n",
        "plt.plot(x, y, 'b')\n",
        "#plt.plot(x, y1, 'r')\n",
        "plt.show()\n",
        "'''\n",
        "'''\n",
        "from scipy.optimize import curve_fit\n",
        "\n",
        "# Fit the function a * np.exp(b * t) + c to x and y\n",
        "popt, pcov = curve_fit(lambda t, a, b, c: a * np.exp(b * t) + c, x, y)\n",
        "a = popt[0]\n",
        "b = popt[1]\n",
        "c = popt[2]\n",
        "# Create the fitted curve\n",
        "x_fitted = np.linspace(np.min(x), np.max(x), 100)\n",
        "y_fitted = a * np.exp(b * x_fitted) + c\n",
        "\n",
        "# Plot\n",
        "ax = plt.axes()\n",
        "ax.scatter(x, y, label='Raw data')\n",
        "ax.plot(x_fitted, y_fitted, 'k', label='Fitted curve')\n",
        "ax.set_title(r'Using curve\\_fit() to fit an exponential function')\n",
        "ax.set_ylabel('y-Values')\n",
        "ax.set_ylim(0, 500)\n",
        "ax.set_xlabel('x-Values')\n",
        "ax.legend()\n",
        "'''"
      ],
      "metadata": {
        "id": "b4wcGNHOKN8S",
        "colab": {
          "base_uri": "https://localhost:8080/",
          "height": 487
        },
        "outputId": "0e1d4fe4-7017-42a0-ddce-11996554dfdd"
      },
      "execution_count": null,
      "outputs": [
        {
          "output_type": "stream",
          "name": "stdout",
          "text": [
            "[2388.06 2388.04 2388.08 2388.11 2388.06 2388.02 2388.02 2388.   2388.05\n",
            " 2388.05 2388.05 2388.09 2388.12 2388.09 2388.11 2388.05 2388.06 2388.05\n",
            " 2388.04 2388.05 2388.11 2388.04 2388.05 2388.12 2388.02 2388.07 2388.02\n",
            " 2388.12 2388.05 2388.07 2388.08 2388.04 2388.04 2388.03 2388.04 2388.01\n",
            " 2388.07 2388.08 2388.02 2388.06 2388.06 2388.08 2388.03 2388.04 2388.08\n",
            " 2388.06 2388.06 2388.08 2388.07 2388.06 2388.02 2388.04 2388.05 2388.04\n",
            " 2388.04 2388.01 2388.05 2388.09 2388.07 2388.06 2388.11 2388.1  2388.06\n",
            " 2388.1  2388.03 2388.06 2388.1  2388.1  2388.07 2388.11 2388.03 2388.07\n",
            " 2388.03 2388.07 2388.07 2388.02 2388.06 2388.08 2388.04 2388.06 2388.1\n",
            " 2388.1  2388.08 2388.05 2388.01 2388.1  2388.14 2388.07 2388.05 2388.1\n",
            " 2388.04 2388.14 2388.07 2388.15 2388.02 2388.07 2388.09 2388.06 2388.08\n",
            " 2388.07 2388.06 2388.15 2388.09 2388.08 2388.09 2388.08 2388.07 2388.14\n",
            " 2388.1  2388.13 2388.12 2388.06 2388.1  2388.07 2388.11 2388.08 2388.1\n",
            " 2388.1  2388.1  2388.1  2388.07 2388.15 2388.12 2388.13 2388.13 2388.05\n",
            " 2388.09 2388.13 2388.09 2388.13 2388.11 2388.17 2388.11 2388.11 2388.14\n",
            " 2388.06 2388.14 2388.11 2388.06 2388.17 2388.13 2388.1  2388.13 2388.17\n",
            " 2388.13 2388.12 2388.14 2388.16 2388.17 2388.12 2388.14 2388.18 2388.14\n",
            " 2388.14 2388.16 2388.26 2388.14 2388.2  2388.13 2388.21 2388.18 2388.15\n",
            " 2388.2  2388.17 2388.19 2388.22 2388.23 2388.22 2388.25 2388.21 2388.2\n",
            " 2388.24 2388.22 2388.22 2388.23 2388.23 2388.25 2388.23 2388.26 2388.21\n",
            " 2388.23 2388.26 2388.21 2388.24 2388.29 2388.21 2388.29 2388.31 2388.27\n",
            " 2388.29 2388.28 2388.32]\n"
          ]
        },
        {
          "output_type": "execute_result",
          "data": {
            "text/plain": [
              "\"\\nfrom scipy.optimize import curve_fit\\n\\n# Fit the function a * np.exp(b * t) + c to x and y\\npopt, pcov = curve_fit(lambda t, a, b, c: a * np.exp(b * t) + c, x, y)\\na = popt[0]\\nb = popt[1]\\nc = popt[2]\\n# Create the fitted curve\\nx_fitted = np.linspace(np.min(x), np.max(x), 100)\\ny_fitted = a * np.exp(b * x_fitted) + c\\n\\n# Plot\\nax = plt.axes()\\nax.scatter(x, y, label='Raw data')\\nax.plot(x_fitted, y_fitted, 'k', label='Fitted curve')\\nax.set_title(r'Using curve\\\\_fit() to fit an exponential function')\\nax.set_ylabel('y-Values')\\nax.set_ylim(0, 500)\\nax.set_xlabel('x-Values')\\nax.legend()\\n\""
            ],
            "application/vnd.google.colaboratory.intrinsic+json": {
              "type": "string"
            }
          },
          "metadata": {},
          "execution_count": 6
        }
      ]
    },
    {
      "cell_type": "code",
      "source": [
        "!pip install -U distfit"
      ],
      "metadata": {
        "colab": {
          "base_uri": "https://localhost:8080/"
        },
        "id": "5RI65IvJZj7z",
        "outputId": "6010e985-8196-49aa-f6dc-b57b1624bce0"
      },
      "execution_count": null,
      "outputs": [
        {
          "output_type": "stream",
          "name": "stdout",
          "text": [
            "Looking in indexes: https://pypi.org/simple, https://us-python.pkg.dev/colab-wheels/public/simple/\n",
            "Collecting distfit\n",
            "  Downloading distfit-1.4.5-py3-none-any.whl (22 kB)\n",
            "Requirement already satisfied: statsmodels in /usr/local/lib/python3.7/dist-packages (from distfit) (0.10.2)\n",
            "Requirement already satisfied: scipy in /usr/local/lib/python3.7/dist-packages (from distfit) (1.7.3)\n",
            "Requirement already satisfied: matplotlib in /usr/local/lib/python3.7/dist-packages (from distfit) (3.2.2)\n",
            "Collecting pypickle\n",
            "  Downloading pypickle-1.1.0-py3-none-any.whl (5.1 kB)\n",
            "Requirement already satisfied: numpy in /usr/local/lib/python3.7/dist-packages (from distfit) (1.21.6)\n",
            "Requirement already satisfied: tqdm in /usr/local/lib/python3.7/dist-packages (from distfit) (4.64.0)\n",
            "Requirement already satisfied: pandas in /usr/local/lib/python3.7/dist-packages (from distfit) (1.3.5)\n",
            "Requirement already satisfied: python-dateutil>=2.1 in /usr/local/lib/python3.7/dist-packages (from matplotlib->distfit) (2.8.2)\n",
            "Requirement already satisfied: kiwisolver>=1.0.1 in /usr/local/lib/python3.7/dist-packages (from matplotlib->distfit) (1.4.3)\n",
            "Requirement already satisfied: cycler>=0.10 in /usr/local/lib/python3.7/dist-packages (from matplotlib->distfit) (0.11.0)\n",
            "Requirement already satisfied: pyparsing!=2.0.4,!=2.1.2,!=2.1.6,>=2.0.1 in /usr/local/lib/python3.7/dist-packages (from matplotlib->distfit) (3.0.9)\n",
            "Requirement already satisfied: typing-extensions in /usr/local/lib/python3.7/dist-packages (from kiwisolver>=1.0.1->matplotlib->distfit) (4.1.1)\n",
            "Requirement already satisfied: six>=1.5 in /usr/local/lib/python3.7/dist-packages (from python-dateutil>=2.1->matplotlib->distfit) (1.15.0)\n",
            "Requirement already satisfied: pytz>=2017.3 in /usr/local/lib/python3.7/dist-packages (from pandas->distfit) (2022.1)\n",
            "Requirement already satisfied: patsy>=0.4.0 in /usr/local/lib/python3.7/dist-packages (from statsmodels->distfit) (0.5.2)\n",
            "Installing collected packages: pypickle, distfit\n",
            "Successfully installed distfit-1.4.5 pypickle-1.1.0\n"
          ]
        }
      ]
    },
    {
      "cell_type": "code",
      "source": [
        "from distfit import distfit\n",
        "import numpy as np\n",
        "import matplotlib.pyplot as plt\n",
        "# Initialize model\n",
        "dist1 = distfit(bins=25,alpha=0.02,stats='ks')\n",
        "plt.plot(x,y,'b')\n",
        "plt.show()\n",
        "dist1.fit_transform(y,verbose=1)"
      ],
      "metadata": {
        "colab": {
          "base_uri": "https://localhost:8080/",
          "height": 1000
        },
        "id": "T8EH9v66Zofs",
        "outputId": "becbe3ce-15d1-455b-fbff-7ca40fd88999"
      },
      "execution_count": null,
      "outputs": [
        {
          "output_type": "stream",
          "name": "stderr",
          "text": [
            "/usr/local/lib/python3.7/dist-packages/statsmodels/tools/_testing.py:19: FutureWarning: pandas.util.testing is deprecated. Use the functions in the public API at pandas.testing instead.\n",
            "  import pandas.util.testing as tm\n"
          ]
        },
        {
          "output_type": "display_data",
          "data": {
            "text/plain": [
              "<Figure size 432x288 with 1 Axes>"
            ],
            "image/png": "[encoded data removed]"
          },
          "metadata": {
            "needs_background": "light"
          }
        },
        {
          "output_type": "execute_result",
          "data": {
            "text/plain": [
              "{'alpha': 0.02,\n",
              " 'bins': 25,\n",
              " 'bound': 'both',\n",
              " 'distr': 'popular',\n",
              " 'f': 1.5,\n",
              " 'histdata': (array([ 1.62760417,  3.25520833,  2.03450521, 10.17252604,  7.32421875,\n",
              "          6.51041667,  4.8828125 ,  9.35872396,  4.06901042,  2.84830729,\n",
              "          7.73111979,  1.62760417,  0.81380208,  2.03450521,  1.22070313,\n",
              "          1.22070313,  2.03450521,  3.66210938,  0.81380208,  0.81380208,\n",
              "          1.22070313,  0.81380208,  1.22070313,  0.        ,  0.81380208]),\n",
              "  array([2388.0064, 2388.0192, 2388.032 , 2388.0448, 2388.0576, 2388.0704,\n",
              "         2388.0832, 2388.096 , 2388.1088, 2388.1216, 2388.1344, 2388.1472,\n",
              "         2388.16  , 2388.1728, 2388.1856, 2388.1984, 2388.2112, 2388.224 ,\n",
              "         2388.2368, 2388.2496, 2388.2624, 2388.2752, 2388.288 , 2388.3008,\n",
              "         2388.3136])),\n",
              " 'method': 'parametric',\n",
              " 'model': {'CII_max_alpha': 2388.4313412865886,\n",
              "  'CII_min_alpha': 2388.0022275589267,\n",
              "  'arg': (),\n",
              "  'distr': <scipy.stats._continuous_distns.expon_gen at 0x7f9ec87da550>,\n",
              "  'loc': 2388.0,\n",
              "  'model': <scipy.stats._distn_infrastructure.rv_frozen at 0x7f9ec77da290>,\n",
              "  'name': 'expon',\n",
              "  'params': (2388.0, 0.11026041666673336),\n",
              "  'scale': 0.11026041666673336,\n",
              "  'score': 0.0019449705409448801,\n",
              "  'stats': 'ks'},\n",
              " 'multtest': 'fdr_bh',\n",
              " 'n_perm': 10000,\n",
              " 'size': 192,\n",
              " 'smooth': None,\n",
              " 'stats': 'ks',\n",
              " 'summary':          distr     score  LLE          loc        scale  \\\n",
              " 0        expon  0.001945  NaN       2388.0      0.11026   \n",
              " 1       pareto  0.001945  NaN   -60.974386  2448.974386   \n",
              " 2        gamma  0.038582  NaN  2387.994488     0.043788   \n",
              " 3         beta  0.038582  NaN       2388.0     0.384021   \n",
              " 4   genextreme  0.148617  NaN  2388.075251     0.049708   \n",
              " 5      lognorm  0.148617  NaN  2387.969111     0.124992   \n",
              " 6         norm  0.322892  NaN   2388.11026     0.070729   \n",
              " 7     dweibull  0.322892  NaN  2388.095043     0.057908   \n",
              " 8            t  0.322892  NaN   2388.11026     0.070729   \n",
              " 9     loggamma  0.322892  NaN  2367.301017     2.836594   \n",
              " 10     uniform  4.401871  NaN       2388.0         0.32   \n",
              " \n",
              "                                         arg  \n",
              " 0                                        ()  \n",
              " 1                     (22213.054402243986,)  \n",
              " 2                     (2.6439507362741965,)  \n",
              " 3   (0.8535592735343294, 2.557227851586531)  \n",
              " 4                   (-0.11854531978518598,)  \n",
              " 5                      (0.497937453853015,)  \n",
              " 6                                        ()  \n",
              " 7                     (1.1843965945452029,)  \n",
              " 8                     (214883.06903647052,)  \n",
              " 9                     (1534.9294145011618,)  \n",
              " 10                                       ()  ,\n",
              " 'weighted': True}"
            ]
          },
          "metadata": {},
          "execution_count": 7
        }
      ]
    },
    {
      "cell_type": "code",
      "source": [
        "dist1.plot(verbose=1)"
      ],
      "metadata": {
        "colab": {
          "base_uri": "https://localhost:8080/",
          "height": 578
        },
        "id": "_rN0_DoNZowx",
        "outputId": "9e532100-edb0-4812-d600-bc607e8f7d6d"
      },
      "execution_count": null,
      "outputs": [
        {
          "output_type": "execute_result",
          "data": {
            "text/plain": [
              "(<Figure size 720x576 with 1 Axes>,\n",
              " <matplotlib.axes._subplots.AxesSubplot at 0x7f9ec77f7550>)"
            ]
          },
          "metadata": {},
          "execution_count": 8
        },
        {
          "output_type": "display_data",
          "data": {
            "text/plain": [
              "<Figure size 720x576 with 1 Axes>"
            ],
            "image/png": "[encoded data removed]"
          },
          "metadata": {
            "needs_background": "light"
          }
        }
      ]
    },
    {
      "cell_type": "code",
      "source": [
        "\n",
        "dist1.summary"
      ],
      "metadata": {
        "colab": {
          "base_uri": "https://localhost:8080/",
          "height": 394
        },
        "id": "dZJaPUWGZo50",
        "outputId": "19c6d040-fe65-41f0-fd99-a532d6b76776"
      },
      "execution_count": null,
      "outputs": [
        {
          "output_type": "execute_result",
          "data": {
            "text/plain": [
              "         distr     score  LLE          loc        scale  \\\n",
              "0        expon  0.001945  NaN       2388.0      0.11026   \n",
              "1       pareto  0.001945  NaN   -60.974386  2448.974386   \n",
              "2        gamma  0.038582  NaN  2387.994488     0.043788   \n",
              "3         beta  0.038582  NaN       2388.0     0.384021   \n",
              "4   genextreme  0.148617  NaN  2388.075251     0.049708   \n",
              "5      lognorm  0.148617  NaN  2387.969111     0.124992   \n",
              "6         norm  0.322892  NaN   2388.11026     0.070729   \n",
              "7     dweibull  0.322892  NaN  2388.095043     0.057908   \n",
              "8            t  0.322892  NaN   2388.11026     0.070729   \n",
              "9     loggamma  0.322892  NaN  2367.301017     2.836594   \n",
              "10     uniform  4.401871  NaN       2388.0         0.32   \n",
              "\n",
              "                                        arg  \n",
              "0                                        ()  \n",
              "1                     (22213.054402243986,)  \n",
              "2                     (2.6439507362741965,)  \n",
              "3   (0.8535592735343294, 2.557227851586531)  \n",
              "4                   (-0.11854531978518598,)  \n",
              "5                      (0.497937453853015,)  \n",
              "6                                        ()  \n",
              "7                     (1.1843965945452029,)  \n",
              "8                     (214883.06903647052,)  \n",
              "9                     (1534.9294145011618,)  \n",
              "10                                       ()  "
            ],
            "text/html": [
              "\n",
              "  <div id=\"df-9960e611-ff00-41bf-9a09-ca408c5cf570\">\n",
              "    <div class=\"colab-df-container\">\n",
              "      <div>\n",
              "<style scoped>\n",
              "    .dataframe tbody tr th:only-of-type {\n",
              "        vertical-align: middle;\n",
              "    }\n",
              "\n",
              "    .dataframe tbody tr th {\n",
              "        vertical-align: top;\n",
              "    }\n",
              "\n",
              "    .dataframe thead th {\n",
              "        text-align: right;\n",
              "    }\n",
              "</style>\n",
              "<table border=\"1\" class=\"dataframe\">\n",
              "  <thead>\n",
              "    <tr style=\"text-align: right;\">\n",
              "      <th></th>\n",
              "      <th>distr</th>\n",
              "      <th>score</th>\n",
              "      <th>LLE</th>\n",
              "      <th>loc</th>\n",
              "      <th>scale</th>\n",
              "      <th>arg</th>\n",
              "    </tr>\n",
              "  </thead>\n",
              "  <tbody>\n",
              "    <tr>\n",
              "      <th>0</th>\n",
              "      <td>expon</td>\n",
              "      <td>0.001945</td>\n",
              "      <td>NaN</td>\n",
              "      <td>2388.0</td>\n",
              "      <td>0.11026</td>\n",
              "      <td>()</td>\n",
              "    </tr>\n",
              "    <tr>\n",
              "      <th>1</th>\n",
              "      <td>pareto</td>\n",
              "      <td>0.001945</td>\n",
              "      <td>NaN</td>\n",
              "      <td>-60.974386</td>\n",
              "      <td>2448.974386</td>\n",
              "      <td>(22213.054402243986,)</td>\n",
              "    </tr>\n",
              "    <tr>\n",
              "      <th>2</th>\n",
              "      <td>gamma</td>\n",
              "      <td>0.038582</td>\n",
              "      <td>NaN</td>\n",
              "      <td>2387.994488</td>\n",
              "      <td>0.043788</td>\n",
              "      <td>(2.6439507362741965,)</td>\n",
              "    </tr>\n",
              "    <tr>\n",
              "      <th>3</th>\n",
              "      <td>beta</td>\n",
              "      <td>0.038582</td>\n",
              "      <td>NaN</td>\n",
              "      <td>2388.0</td>\n",
              "      <td>0.384021</td>\n",
              "      <td>(0.8535592735343294, 2.557227851586531)</td>\n",
              "    </tr>\n",
              "    <tr>\n",
              "      <th>4</th>\n",
              "      <td>genextreme</td>\n",
              "      <td>0.148617</td>\n",
              "      <td>NaN</td>\n",
              "      <td>2388.075251</td>\n",
              "      <td>0.049708</td>\n",
              "      <td>(-0.11854531978518598,)</td>\n",
              "    </tr>\n",
              "    <tr>\n",
              "      <th>5</th>\n",
              "      <td>lognorm</td>\n",
              "      <td>0.148617</td>\n",
              "      <td>NaN</td>\n",
              "      <td>2387.969111</td>\n",
              "      <td>0.124992</td>\n",
              "      <td>(0.497937453853015,)</td>\n",
              "    </tr>\n",
              "    <tr>\n",
              "      <th>6</th>\n",
              "      <td>norm</td>\n",
              "      <td>0.322892</td>\n",
              "      <td>NaN</td>\n",
              "      <td>2388.11026</td>\n",
              "      <td>0.070729</td>\n",
              "      <td>()</td>\n",
              "    </tr>\n",
              "    <tr>\n",
              "      <th>7</th>\n",
              "      <td>dweibull</td>\n",
              "      <td>0.322892</td>\n",
              "      <td>NaN</td>\n",
              "      <td>2388.095043</td>\n",
              "      <td>0.057908</td>\n",
              "      <td>(1.1843965945452029,)</td>\n",
              "    </tr>\n",
              "    <tr>\n",
              "      <th>8</th>\n",
              "      <td>t</td>\n",
              "      <td>0.322892</td>\n",
              "      <td>NaN</td>\n",
              "      <td>2388.11026</td>\n",
              "      <td>0.070729</td>\n",
              "      <td>(214883.06903647052,)</td>\n",
              "    </tr>\n",
              "    <tr>\n",
              "      <th>9</th>\n",
              "      <td>loggamma</td>\n",
              "      <td>0.322892</td>\n",
              "      <td>NaN</td>\n",
              "      <td>2367.301017</td>\n",
              "      <td>2.836594</td>\n",
              "      <td>(1534.9294145011618,)</td>\n",
              "    </tr>\n",
              "    <tr>\n",
              "      <th>10</th>\n",
              "      <td>uniform</td>\n",
              "      <td>4.401871</td>\n",
              "      <td>NaN</td>\n",
              "      <td>2388.0</td>\n",
              "      <td>0.32</td>\n",
              "      <td>()</td>\n",
              "    </tr>\n",
              "  </tbody>\n",
              "</table>\n",
              "</div>\n",
              "      <button class=\"colab-df-convert\" onclick=\"convertToInteractive('df-9960e611-ff00-41bf-9a09-ca408c5cf570')\"\n",
              "              title=\"Convert this dataframe to an interactive table.\"\n",
              "              style=\"display:none;\">\n",
              "        \n",
              "  <svg xmlns=\"http://www.w3.org/2000/svg\" height=\"24px\"viewBox=\"0 0 24 24\"\n",
              "       width=\"24px\">\n",
              "    <path d=\"M0 0h24v24H0V0z\" fill=\"none\"/>\n",
              "    <path d=\"M18.56 5.44l.94 2.06.94-2.06 2.06-.94-2.06-.94-.94-2.06-.94 2.06-2.06.94zm-11 1L8.5 8.5l.94-2.06 2.06-.94-2.06-.94L8.5 2.5l-.94 2.06-2.06.94zm10 10l.94 2.06.94-2.06 2.06-.94-2.06-.94-.94-2.06-.94 2.06-2.06.94z\"/><path d=\"M17.41 7.96l-1.37-1.37c-.4-.4-.92-.59-1.43-.59-.52 0-1.04.2-1.43.59L10.3 9.45l-7.72 7.72c-.78.78-.78 2.05 0 2.83L4 21.41c.39.39.9.59 1.41.59.51 0 1.02-.2 1.41-.59l7.78-7.78 2.81-2.81c.8-.78.8-2.07 0-2.86zM5.41 20L4 18.59l7.72-7.72 1.47 1.35L5.41 20z\"/>\n",
              "  </svg>\n",
              "      </button>\n",
              "      \n",
              "  <style>\n",
              "    .colab-df-container {\n",
              "      display:flex;\n",
              "      flex-wrap:wrap;\n",
              "      gap: 12px;\n",
              "    }\n",
              "\n",
              "    .colab-df-convert {\n",
              "      background-color: #E8F0FE;\n",
              "      border: none;\n",
              "      border-radius: 50%;\n",
              "      cursor: pointer;\n",
              "      display: none;\n",
              "      fill: #1967D2;\n",
              "      height: 32px;\n",
              "      padding: 0 0 0 0;\n",
              "      width: 32px;\n",
              "    }\n",
              "\n",
              "    .colab-df-convert:hover {\n",
              "      background-color: #E2EBFA;\n",
              "      box-shadow: 0px 1px 2px rgba(60, 64, 67, 0.3), 0px 1px 3px 1px rgba(60, 64, 67, 0.15);\n",
              "      fill: #174EA6;\n",
              "    }\n",
              "\n",
              "    [theme=dark] .colab-df-convert {\n",
              "      background-color: #3B4455;\n",
              "      fill: #D2E3FC;\n",
              "    }\n",
              "\n",
              "    [theme=dark] .colab-df-convert:hover {\n",
              "      background-color: #434B5C;\n",
              "      box-shadow: 0px 1px 3px 1px rgba(0, 0, 0, 0.15);\n",
              "      filter: drop-shadow(0px 1px 2px rgba(0, 0, 0, 0.3));\n",
              "      fill: #FFFFFF;\n",
              "    }\n",
              "  </style>\n",
              "\n",
              "      <script>\n",
              "        const buttonEl =\n",
              "          document.querySelector('#df-9960e611-ff00-41bf-9a09-ca408c5cf570 button.colab-df-convert');\n",
              "        buttonEl.style.display =\n",
              "          google.colab.kernel.accessAllowed ? 'block' : 'none';\n",
              "\n",
              "        async function convertToInteractive(key) {\n",
              "          const element = document.querySelector('#df-9960e611-ff00-41bf-9a09-ca408c5cf570');\n",
              "          const dataTable =\n",
              "            await google.colab.kernel.invokeFunction('convertToInteractive',\n",
              "                                                     [key], {});\n",
              "          if (!dataTable) return;\n",
              "\n",
              "          const docLinkHtml = 'Like what you see? Visit the ' +\n",
              "            '<a target=\"_blank\" href=https://colab.research.google.com/notebooks/data_table.ipynb>data table notebook</a>'\n",
              "            + ' to learn more about interactive tables.';\n",
              "          element.innerHTML = '';\n",
              "          dataTable['output_type'] = 'display_data';\n",
              "          await google.colab.output.renderOutput(dataTable, element);\n",
              "          const docLink = document.createElement('div');\n",
              "          docLink.innerHTML = docLinkHtml;\n",
              "          element.appendChild(docLink);\n",
              "        }\n",
              "      </script>\n",
              "    </div>\n",
              "  </div>\n",
              "  "
            ]
          },
          "metadata": {},
          "execution_count": 9
        }
      ]
    },
    {
      "cell_type": "code",
      "source": [
        "'''data2 = np.random.normal(loc=5.0, scale=10, size=1000)\n",
        "x=np.arange(1, len(data2)+1 ,1)\n",
        "plt.plot (x,data2)\n",
        "dist2 = distfit(bins=50,alpha=0.02,stats='ks')\n",
        "dist2.fit_transform(data2,verbose=1)\n",
        "dist2.plot(title=\"Best-fitted with 5000 data points\",verbose=1)'''"
      ],
      "metadata": {
        "id": "T3zQvbL-cEDl"
      },
      "execution_count": null,
      "outputs": []
    },
    {
      "cell_type": "code",
      "source": [
        "a=dist1.generate(200,verbose=1)\n",
        "a.sort()\n",
        "x=np.arange(1,len(a)+1, 1)\n",
        "plt.plot(x,a)\n",
        "plt.show()"
      ],
      "metadata": {
        "colab": {
          "base_uri": "https://localhost:8080/",
          "height": 276
        },
        "id": "pGNjqvWxeERI",
        "outputId": "2a35c400-1796-48c8-fd33-2ca767d18fdf"
      },
      "execution_count": null,
      "outputs": [
        {
          "output_type": "display_data",
          "data": {
            "text/plain": [
              "<Figure size 432x288 with 1 Axes>"
            ],
            "image/png": "[encoded data removed]"
          },
          "metadata": {
            "needs_background": "light"
          }
        }
      ]
    },
    {
      "cell_type": "code",
      "source": [],
      "metadata": {
        "id": "FsxSNbVOvbla"
      },
      "execution_count": null,
      "outputs": []
    }
  ]
}